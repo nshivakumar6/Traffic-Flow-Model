{
  "nbformat": 4,
  "nbformat_minor": 0,
  "metadata": {
    "colab": {
      "provenance": []
    },
    "kernelspec": {
      "name": "python3",
      "display_name": "Python 3"
    },
    "language_info": {
      "name": "python"
    }
  },
  "cells": [
    {
      "cell_type": "code",
      "source": [
        "import simpy\n",
        "import random\n",
        "import numpy as np"
      ],
      "metadata": {
        "id": "EGg41WonnuCt"
      },
      "execution_count": null,
      "outputs": []
    },
    {
      "cell_type": "code",
      "source": [
        "!pip install simpy"
      ],
      "metadata": {
        "colab": {
          "base_uri": "https://localhost:8080/"
        },
        "id": "JVzVxIDSpGj9",
        "outputId": "2bdda98f-80df-4962-88a4-3eef2cf87e0a"
      },
      "execution_count": null,
      "outputs": [
        {
          "output_type": "stream",
          "name": "stdout",
          "text": [
            "Collecting simpy\n",
            "  Downloading simpy-4.1.1-py3-none-any.whl (27 kB)\n",
            "Installing collected packages: simpy\n",
            "Successfully installed simpy-4.1.1\n"
          ]
        }
      ]
    },
    {
      "cell_type": "code",
      "source": [
        "class BikeStation:\n",
        "  def __init__(self, env, numberOfBikes,name,infinite):\n",
        "    self.env=env\n",
        "    self.bikesQueue=simpy.Store(env, capacity=numberOfBikes) ## can hold an unlimited number of bikes, but for now holds numberOfBikes?\n",
        "    self.name=name\n",
        "    if infinite:\n",
        "      for num in range(40000):\n",
        "        self.bikesQueue.put(\"bike\")\n",
        "    else:\n",
        "      for num in range(numberOfBikes):\n",
        "        self.bikesQueue.put(\"bike\")\n",
        "  def pickUpBike(self):\n",
        "    return self.bikesQueue.get() ##waits to get a bike if there aren't any available, need to return so that it stops waiting\n",
        "  def returnBike(self):\n",
        "    self.bikesQueue.put(\"bike\")\n",
        "\n",
        "\n",
        "\n",
        "\n",
        "def biker(stations,stationAProbabilities, env, meanRate,QMatrix,success, std, mu, stationProbabilities,avgWaitingTime):\n",
        "\n",
        "  yield env.timeout(random.expovariate(meanRate))\n",
        "  ##picking a station randomly\n",
        "  stationChosen= np.random.choice(len(stationAProbabilities), p=stationProbabilities)\n",
        "  stationName=list(stationAProbabilities.keys())[stationChosen]\n",
        "  station=stations[stationName] ##now station is the station object\n",
        "  beforePickingUp=env.now\n",
        "  yield station.pickUpBike() ##waits until a bike is available\n",
        "  afterPickingUp=env.now\n",
        "  waitingTime=afterPickingUp-beforePickingUp\n",
        "  avgWaitingTime.append(waitingTime)\n",
        "  success[0]+=1\n",
        "  ##choosing destination randomly\n",
        "  startArray=QMatrix[stationName]\n",
        "  ##now startArray is list of tuples with ending station and probabiities\n",
        "  probabilities=[]\n",
        "  for end,probability in startArray:\n",
        "    probabilities.append(probability)\n",
        "\n",
        "  destinatationStation=np.random.choice(len(startArray), p=probabilities) ##getting probability of going to station j starting at stationChosen index\n",
        "\n",
        "\n",
        "\n",
        "  destination=startArray[destinatationStation][0]\n",
        "  yield env.timeout(np.random.lognormal(mu,std)) ##random amount of time that the biker uses the bike\n",
        "\n",
        "  if destination in stations:\n",
        "\n",
        "    destinationObject=stations[destination]\n",
        "    destinationObject.returnBike() ##Returning the bike to the destintations station\n",
        "\n",
        "\n",
        "\n"
      ],
      "metadata": {
        "id": "KkMSbG_Ztpgr"
      },
      "execution_count": null,
      "outputs": []
    },
    {
      "cell_type": "code",
      "source": [
        "def simulation(numberOfStations,bikesPerStation, numberOfRiders,meanRate,QMatrix,std,mu,stationAProbabilities):\n",
        "  stations={}\n",
        "  env=simpy.Environment()\n",
        "  stationProbabilities=list(stationAProbabilities.values())\n",
        "  infinite=False\n",
        "  if(bikesPerStation==float('inf')):\n",
        "    infinite=True\n",
        "  for stationName,probability in stationAProbabilities.items():\n",
        "    stations[stationName]=BikeStation(env,bikesPerStation,stationName,infinite)\n",
        "  avgWaitingTime=[]\n",
        "  success=[0]\n",
        "  for num in range(numberOfRiders):\n",
        "    env.process(biker(stations,stationAProbabilities, env, meanRate,QMatrix,success, std, mu, stationProbabilities,avgWaitingTime))\n",
        "  env.run(until=60*24)  # Run the simulation for 24 hours (in minutes)\n",
        "  sum=0\n",
        "  count=0\n",
        "  for num in avgWaitingTime:\n",
        "    sum+=num\n",
        "    count+=1\n",
        "  avgWaiting=sum/count\n",
        "  return success[0],avgWaiting  # Return the count of successful pickups\n",
        "\n"
      ],
      "metadata": {
        "id": "TsLI32K1G9b9"
      },
      "execution_count": null,
      "outputs": []
    },
    {
      "cell_type": "markdown",
      "source": [],
      "metadata": {
        "id": "tKVvQwQtSbsp"
      }
    },
    {
      "cell_type": "markdown",
      "source": [
        "TASK 2"
      ],
      "metadata": {
        "id": "24Yj-W8JSdNQ"
      }
    },
    {
      "cell_type": "code",
      "source": [
        "import csv\n",
        "\n",
        "# Corrected file path\n",
        "csv_file_path = \"/content/start_station_probs.csv\"  # Using a raw string\n",
        "\n",
        "# Initialize an empty list to store the second column data\n",
        "stationAProbabilities={}\n",
        "# Open the CSV file and read data\n",
        "\n",
        "with open(csv_file_path, newline='') as csvfile:\n",
        "    reader = csv.reader(csvfile)\n",
        "    next(reader)\n",
        "    for row in reader:\n",
        "        if len(row) > 1:  # Make sure the row has at least two columns\n",
        "            stationAProbabilities[row[0]]=float(row[1])  # Append data from the second column\n",
        "print(stationAProbabilities)\n"
      ],
      "metadata": {
        "colab": {
          "base_uri": "https://localhost:8080/"
        },
        "id": "VvZZqx3FXoay",
        "outputId": "540c6ec6-aec1-44d5-f577-17810fa209cd"
      },
      "execution_count": null,
      "outputs": [
        {
          "output_type": "stream",
          "name": "stdout",
          "text": [
            "{'South Waterfront Walkway - Sinatra Dr & 1 St': 0.04467944609528249, 'Grove St PATH': 0.04350443784109227, 'Hoboken Terminal - Hudson St & Hudson Pl': 0.0336285420186836, 'Hoboken Terminal - River St & Hudson Pl': 0.02983161451960613, 'Newport Pkwy': 0.027034900658393056, 'City Hall - Washington St & 1 St': 0.02635514381712599, 'Newport PATH': 0.025471459923478802, '12 St & Sinatra Dr N': 0.024422692225523897, 'Hoboken Ave at Monmouth St': 0.023684670512148225, 'Marin Light Rail': 0.023529297519858612, 'Hamilton Park': 0.022985492046844958, '14 St Ferry - 14 St & Shipyard Ln': 0.021616267552292723, 'Liberty Light Rail': 0.02025675386975859, 'Columbus Dr at Exchange Pl': 0.019285672667948495, 'Harborside': 0.018664180698790032, '11 St & Washington St': 0.017644545436889432, 'Washington St': 0.017265823768183496, 'Sip Ave': 0.017032764279749073, 'Hudson St & 4 St': 0.016955077783604264, '8 St & Washington St': 0.015750937093359747, 'Madison St & 1 St': 0.015488745168871021, 'City Hall': 0.015216842432364194, 'Warren St': 0.014605061275223834, 'Newark Ave': 0.014304026102662704, 'Columbus Park - Clinton St & 9 St': 0.013381498960943114, 'Grand St & 14 St': 0.013216415156635398, 'Church Sq Park - 5 St & Park Ave': 0.01294451242012857, 'Columbus Drive': 0.012866825923983763, 'Van Vorst Park': 0.012565790751422634, 'Clinton St & Newark St': 0.01233273126298821, 'Grand St': 0.012128804210608092, 'Paulus Hook': 0.01202198527840898, 'Manila & 1st': 0.012002563654372779, '9 St HBLR - Jackson St & 8 St': 0.011361650061178116, 'Bloomfield St & 15 St': 0.01109945813668939, '4 St & Grand St': 0.01109945813668939, '7 St & Monroe St': 0.011080036512653189, 'JC Medical Center': 0.010905241896327371, 'Clinton St & 7 St': 0.010759579716055857, 'Willow Ave & 12 St': 0.00999242556662588, 'Morris Canal': 0.009963293130571578, 'McGinley Square': 0.009943871506535376, 'Brunswick & 6th': 0.009526306589757035, 'Jersey & 3rd': 0.00938064440948552, 'Brunswick St': 0.00937093359746742, 'Baldwin at Montgomery': 0.009341801161413118, 'Adams St & 2 St': 0.009332090349395016, 'Southwest Park - Jackson St & Observer Hwy': 0.009283536289304511, 'Marshall St & 2 St': 0.009060187612888189, 'Journal Square': 0.008846549748489968, 'Madison St & 10 St': 0.008700887568218454, '6 St & Grand St': 0.007972576666860883, 'Dixon Mills': 0.00753559012604634, 'Lafayette Park': 0.007487036065955835, 'Riverview Park': 0.0074384820058653305, 'Stevens - River Ter & 6 St': 0.0073996387577929265, 'Mama Johnson Field - 4 St & Jackson St': 0.007389927945774826, 'Pershing Field': 0.007360795509720523, 'Hilltop': 0.007253976577521412, 'Jersey & 6th St': 0.007224844141467109, 'Essex Light Rail': 0.007108314397249898, 'Monmouth and 6th': 0.006632484608362951, 'Oakland Ave': 0.006477111616073336, 'Adams St & 11 St': 0.0064674008040552355, 'Bergen Ave': 0.006302316999747519, 'Fairmount Ave': 0.005622560158480452, 'Montgomery St': 0.0056128493464623515, 'Christ Hospital': 0.005583716910408048, 'Astor Place': 0.0053409466099555245, 'Heights Elevator': 0.005321524985919323, 'Lincoln Park': 0.005311814173901221, 'Leonard Gordon Park': 0.0051078871215211015, 'Communipaw & Berry Lane': 0.004039697799529997, '5 Corners Library': 0.0036124220707335545, 'Glenwood Ave': 0.003301676086154324, 'Union St': 0.002728738177086368, 'Dey St': 0.0026704733049777623, 'Jackson Square': 0.0018159218473848783, 'Bergen Ave & Stegman St': 0.001456621802715143, 'Grant Ave & MLK Dr': 0.0006894676532851677, 'JCBS Depot': 9.710812018100953e-06}\n"
          ]
        }
      ]
    },
    {
      "cell_type": "code",
      "source": [
        "# Corrected file path\n",
        "csv_file_path = \"/content/trip_stats.csv\"  # Using a raw string\n",
        "\n",
        "# Initialize an empty list to store the second column data\n",
        "tripStats= []\n",
        "\n",
        "# Open the CSV file and read data\n",
        "\n",
        "with open(csv_file_path, newline='') as csvfile:\n",
        "    reader = csv.reader(csvfile)\n",
        "    next(reader)\n",
        "    for row in reader:\n",
        "        if len(row) > 1:  # Make sure the row has at least two columns\n",
        "            tripStats.append(tuple(row))  # Append data from the second column\n",
        "\n"
      ],
      "metadata": {
        "id": "-vl80avrhw3y"
      },
      "execution_count": null,
      "outputs": []
    },
    {
      "cell_type": "code",
      "source": [
        "probabilityOfAB={}\n",
        "total=0\n",
        "for start,end,value,mean,std in tripStats:\n",
        "  total+=int(value)\n",
        "for start,end,value,mean,std in tripStats:\n",
        "  probabilityOfAB[(start,end)]=int(value)/total\n",
        "\n"
      ],
      "metadata": {
        "id": "peSAWb_sd0wZ"
      },
      "execution_count": null,
      "outputs": []
    },
    {
      "cell_type": "code",
      "source": [
        "ProbabilityOfBGivenA={}\n",
        "Q={}\n",
        "for key,probability in probabilityOfAB.items():\n",
        "  start,end=key\n",
        "  probabilityOfA=stationAProbabilities[start]\n",
        "  ProbabilityOfBGivenA[(end,start)]=(float(probability)/probabilityOfA)\n",
        "  if start not in Q:\n",
        "    Q[start]=[]\n",
        "  Q[start].append((end,ProbabilityOfBGivenA[end,start]))\n"
      ],
      "metadata": {
        "id": "ku7CBiMmf_To"
      },
      "execution_count": null,
      "outputs": []
    },
    {
      "cell_type": "code",
      "source": [
        "ProbabilityOfBGivenA[('Willow Ave & 12 St','11 St & Washington St')]"
      ],
      "metadata": {
        "colab": {
          "base_uri": "https://localhost:8080/"
        },
        "id": "6-qSOoy8iZSi",
        "outputId": "60efcb9c-bbc9-470b-9df7-56756c4337be"
      },
      "execution_count": null,
      "outputs": [
        {
          "output_type": "execute_result",
          "data": {
            "text/plain": [
              "0.017611447440836543"
            ]
          },
          "metadata": {},
          "execution_count": 49
        }
      ]
    },
    {
      "cell_type": "code",
      "source": [
        "num_stations = len(stationAProbabilities)\n",
        "bikesPerStation=10\n",
        "num_riders = 3500\n",
        "lambda_rate = 2.38\n",
        "q_matrix = Q\n",
        "std=.619\n",
        "mu = 2.78\n",
        "\n",
        "\n",
        "\n",
        "successful_rides,waiting = simulation(num_stations,bikesPerStation, num_riders,lambda_rate,q_matrix,std,mu,stationAProbabilities)\n",
        "print(f\"Total successful rides: {successful_rides}\")\n",
        "print(f\"Waiting : {waiting}\")\n"
      ],
      "metadata": {
        "colab": {
          "base_uri": "https://localhost:8080/"
        },
        "id": "FaeEihr4Sqbu",
        "outputId": "08fb0f00-2a04-4a87-b02b-15bbedc0740b"
      },
      "execution_count": null,
      "outputs": [
        {
          "output_type": "stream",
          "name": "stdout",
          "text": [
            "Total successful rides: 3475\n",
            "Waiting : 32.50022717723433\n"
          ]
        }
      ]
    },
    {
      "cell_type": "code",
      "source": [
        "successfullRides=[]\n",
        "\n",
        "for num in range(5):\n",
        "  num_stations = len(stationAProbabilities)\n",
        "  bikesPerStation=10\n",
        "  num_riders = 3500\n",
        "  lambda_rate = 2.38\n",
        "  q_matrix = Q\n",
        "  std=.619\n",
        "  mu = 2.78\n",
        "\n",
        "\n",
        "\n",
        "  successful_rides,waiting = simulation(num_stations,bikesPerStation, num_riders,lambda_rate,q_matrix,std,mu,stationAProbabilities)\n",
        "  successfullRides.append(successful_rides)\n",
        "print(f\"Total successful rides: {successful_rides}\")\n",
        "print(f\"Waiting : {waiting}\")"
      ],
      "metadata": {
        "colab": {
          "base_uri": "https://localhost:8080/"
        },
        "id": "QyJDo6DtIryp",
        "outputId": "bd632c23-7a24-4277-dc9b-2763fe55eec6"
      },
      "execution_count": null,
      "outputs": [
        {
          "output_type": "stream",
          "name": "stdout",
          "text": [
            "Total successful rides: 3473\n",
            "Waiting : 34.48093540258836\n"
          ]
        }
      ]
    },
    {
      "cell_type": "code",
      "source": [
        "import numpy as np\n",
        "from scipy.stats import norm\n",
        "\n",
        "\n",
        "successful_rides=sum(successfullRides)/5\n",
        "total_riders=num_riders\n",
        "\n",
        "# Calculate the sample proportion\n",
        "p =successful_rides / total_riders\n",
        "\n",
        "# Calculate the standard error (SE)\n",
        "se = np.sqrt(p * (1 - p) / total_riders)\n",
        "\n",
        "\n",
        "z_score = norm.ppf(0.95)\n",
        "\n",
        "margin_of_error=z_score * se\n",
        "\n",
        "# Calculate the confidence interval\n",
        "ci_lower = p - margin_of_error\n",
        "ci_upper = p + margin_of_error\n",
        "\n",
        "# Print the results\n",
        "print(f\"90% Confidence Interval for the proportion of successful rides: ({ci_lower:.4f}, {ci_upper:.4f})\")\n"
      ],
      "metadata": {
        "colab": {
          "base_uri": "https://localhost:8080/"
        },
        "id": "9FQfoTMkHNbK",
        "outputId": "2e548499-2df7-45ab-cfca-1ef200ae5d30"
      },
      "execution_count": null,
      "outputs": [
        {
          "output_type": "stream",
          "name": "stdout",
          "text": [
            "90% Confidence Interval for the proportion of successful rides: (0.9784, 0.9857)\n"
          ]
        }
      ]
    },
    {
      "cell_type": "markdown",
      "source": [
        "TASK 3"
      ],
      "metadata": {
        "id": "FW-x3uo601-q"
      }
    },
    {
      "cell_type": "code",
      "source": [
        "class BikeStationTask3:\n",
        "  def __init__(self, env, numberOfBikes,name,infinite):\n",
        "    self.env=env\n",
        "    self.bikesQueue=simpy.Store(env, capacity=numberOfBikes) ## can hold an unlimited number of bikes, but for now holds numberOfBikes?\n",
        "    self.name=name\n",
        "    self.visitors=0\n",
        "    if infinite:\n",
        "      for num in range(40000):\n",
        "        self.bikesQueue.put(\"bike\")\n",
        "    else:\n",
        "      for num in range(numberOfBikes):\n",
        "        self.bikesQueue.put(\"bike\")\n",
        "  def pickUpBike(self):\n",
        "    return self.bikesQueue.get() ##waits to get a bike if there aren't any available, need to return so that it stops waiting\n",
        "  def returnBike(self):\n",
        "    self.bikesQueue.put(\"bike\")\n",
        "  def addRider(self):\n",
        "    self.visitors+=1\n",
        "\n",
        "\n",
        "\n",
        "\n",
        "def bikerTask3(stations,stationAProbabilities, env, meanRate,QMatrix,success, std, mu, stationProbabilities,avgWaitingTime):\n",
        "\n",
        "  yield env.timeout(random.expovariate(meanRate))\n",
        "  ##picking a station randomly\n",
        "  stationChosen= np.random.choice(len(stationAProbabilities), p=stationProbabilities)\n",
        "  stationName=list(stationAProbabilities.keys())[stationChosen]\n",
        "  station=stations[stationName] ##now station is the station object\n",
        "  ##keep track of the number of people at that station\n",
        "  station.addRider()\n",
        "  beforePickingUp=env.now\n",
        "  yield station.pickUpBike() ##waits until a bike is available\n",
        "  afterPickingUp=env.now\n",
        "  waitingTime=afterPickingUp-beforePickingUp\n",
        "  avgWaitingTime.append(waitingTime)\n",
        "  success[0]+=1\n",
        "  ##choosing destination randomly\n",
        "  startArray=QMatrix[stationName]\n",
        "  ##now startArray is list of tuples with ending station and probabiities\n",
        "  probabilities=[]\n",
        "  for end,probability in startArray:\n",
        "    probabilities.append(probability)\n",
        "\n",
        "  destinatationStation=np.random.choice(len(startArray), p=probabilities) ##getting probability of going to station j starting at stationChosen index\n",
        "\n",
        "\n",
        "\n",
        "  destination=startArray[destinatationStation][0]\n",
        "  yield env.timeout(np.random.lognormal(mu,std)) ##random amount of time that the biker uses the bike\n",
        "\n",
        "  if destination in stations:\n",
        "\n",
        "    destinationObject=stations[destination]\n",
        "    destinationObject.returnBike() ##Returning the bike to the destintations station\n",
        "\n",
        "\n",
        "\n"
      ],
      "metadata": {
        "id": "egnqLqdkoWes"
      },
      "execution_count": null,
      "outputs": []
    },
    {
      "cell_type": "code",
      "source": [
        "def simulationTask3(numberOfStations,bikesPerStation, numberOfRiders,meanRate,QMatrix,std,mu,stationAProbabilities,adict):\n",
        "  stations={}\n",
        "  env=simpy.Environment()\n",
        "  stationProbabilities=list(stationAProbabilities.values())\n",
        "  infinite=False\n",
        "  if(bikesPerStation==float('inf')):\n",
        "    infinite=True\n",
        "  for stationName,probability in stationAProbabilities.items():\n",
        "    stations[stationName]=BikeStationTask3(env,bikesPerStation,stationName,infinite)\n",
        "  avgWaitingTime=[]\n",
        "  success=[0]\n",
        "  for num in range(numberOfRiders):\n",
        "    env.process(bikerTask3(stations,stationAProbabilities, env, meanRate,QMatrix,success, std, mu, stationProbabilities,avgWaitingTime))\n",
        "  env.run(until=60*24)  # Run the simulation for 24 hours (in minutes)\n",
        "  sum=0\n",
        "  count=0\n",
        "  for num in avgWaitingTime:\n",
        "    sum+=num\n",
        "    count+=1\n",
        "  avgWaiting=sum/count\n",
        "  for key,value in stations.items():\n",
        "    if key not in adict:\n",
        "      adict[key]=[]\n",
        "    adict[key].append(value.visitors)\n",
        "\n",
        "  return success[0],avgWaiting,adict  # Return the count of successful pickups\n",
        "\n"
      ],
      "metadata": {
        "id": "fHUTW9VSosK0"
      },
      "execution_count": null,
      "outputs": []
    },
    {
      "cell_type": "code",
      "source": [
        "num_stations = len(stationAProbabilities)\n",
        "bikesPerStation=10\n",
        "num_riders = 3500\n",
        "lambda_rate = 2.38\n",
        "q_matrix = Q\n",
        "std=.619\n",
        "mu = 2.78\n",
        "adict={}\n",
        "\n",
        "\n",
        "for num in range(50):\n",
        "  successful_rides,waiting,adict = simulationTask3(num_stations,bikesPerStation, num_riders,lambda_rate,q_matrix,std,mu,stationAProbabilities,adict)\n",
        "print(adict)\n",
        "print(f\"Total successful rides: {successful_rides}\")\n",
        "print(f\"Waiting : {waiting}\")\n"
      ],
      "metadata": {
        "colab": {
          "base_uri": "https://localhost:8080/"
        },
        "id": "l7bNicV61Hoj",
        "outputId": "af7217d0-c2c1-49d4-8a44-c5120b9b0246"
      },
      "execution_count": null,
      "outputs": [
        {
          "output_type": "stream",
          "name": "stdout",
          "text": [
            "{'South Waterfront Walkway - Sinatra Dr & 1 St': [160, 170, 149, 151, 157, 139, 159, 160, 147, 176, 157, 146, 170, 153, 141, 164, 159, 164, 141, 158, 166, 165, 139, 142, 148, 159, 149, 164, 160, 157, 138, 153, 156, 183, 175, 150, 158, 146, 163, 170, 159, 137, 140, 155, 163, 147, 146, 162, 162, 156], 'Grove St PATH': [158, 146, 161, 147, 166, 167, 158, 186, 136, 134, 133, 150, 161, 155, 165, 166, 142, 164, 155, 141, 140, 152, 153, 163, 145, 132, 156, 124, 152, 147, 157, 159, 145, 147, 135, 161, 147, 154, 145, 166, 157, 146, 167, 147, 129, 151, 145, 146, 162, 138], 'Hoboken Terminal - Hudson St & Hudson Pl': [131, 116, 133, 114, 116, 114, 118, 111, 119, 119, 129, 130, 124, 128, 118, 118, 120, 133, 128, 113, 110, 106, 113, 118, 112, 135, 126, 122, 108, 111, 132, 116, 126, 117, 124, 115, 103, 114, 129, 108, 117, 131, 114, 112, 109, 114, 136, 120, 138, 114], 'Hoboken Terminal - River St & Hudson Pl': [120, 106, 97, 92, 121, 108, 117, 83, 123, 111, 95, 101, 106, 91, 110, 98, 114, 107, 110, 109, 108, 112, 112, 102, 106, 108, 112, 123, 114, 106, 107, 114, 98, 104, 119, 114, 111, 106, 103, 124, 94, 100, 121, 106, 122, 115, 93, 133, 90, 103], 'Newport Pkwy': [90, 112, 105, 108, 82, 94, 92, 96, 95, 97, 89, 99, 76, 96, 82, 113, 90, 85, 94, 111, 77, 92, 84, 88, 88, 107, 99, 88, 94, 100, 101, 92, 88, 99, 101, 92, 99, 93, 90, 90, 106, 102, 97, 103, 94, 108, 93, 86, 66, 87], 'City Hall - Washington St & 1 St': [99, 89, 94, 82, 91, 86, 91, 71, 121, 94, 93, 88, 88, 87, 103, 89, 80, 85, 101, 80, 111, 75, 99, 84, 88, 103, 97, 95, 107, 103, 89, 95, 110, 108, 104, 103, 84, 101, 84, 94, 85, 104, 98, 83, 106, 93, 82, 81, 95, 87], 'Newport PATH': [98, 93, 90, 78, 105, 82, 93, 83, 82, 87, 69, 83, 90, 89, 82, 79, 100, 100, 74, 86, 64, 107, 88, 89, 87, 99, 100, 70, 79, 85, 87, 82, 97, 88, 67, 89, 89, 96, 74, 105, 101, 84, 85, 89, 90, 73, 90, 103, 83, 107], '12 St & Sinatra Dr N': [84, 90, 92, 105, 81, 81, 82, 91, 94, 86, 92, 72, 94, 100, 94, 87, 83, 89, 88, 86, 80, 99, 92, 78, 91, 79, 92, 74, 102, 75, 76, 92, 57, 104, 79, 88, 101, 101, 82, 72, 86, 83, 87, 83, 84, 87, 79, 81, 78, 78], 'Hoboken Ave at Monmouth St': [74, 61, 83, 87, 78, 98, 80, 82, 77, 84, 94, 74, 87, 73, 71, 92, 66, 87, 93, 96, 78, 76, 91, 80, 79, 72, 88, 92, 82, 71, 75, 89, 78, 91, 83, 92, 96, 83, 66, 96, 71, 78, 84, 73, 74, 62, 79, 82, 79, 91], 'Marin Light Rail': [85, 76, 77, 82, 69, 70, 80, 71, 80, 63, 77, 77, 75, 98, 77, 82, 87, 76, 95, 95, 85, 87, 80, 83, 97, 96, 90, 80, 77, 83, 82, 88, 87, 86, 79, 86, 89, 85, 89, 94, 84, 81, 89, 89, 79, 90, 80, 78, 93, 72], 'Hamilton Park': [70, 51, 90, 85, 70, 77, 70, 72, 92, 86, 73, 64, 86, 80, 63, 69, 76, 80, 89, 83, 87, 73, 71, 68, 94, 76, 74, 90, 78, 73, 87, 79, 98, 86, 85, 78, 91, 77, 83, 82, 78, 82, 85, 67, 69, 81, 69, 76, 72, 69], '14 St Ferry - 14 St & Shipyard Ln': [90, 72, 91, 65, 68, 78, 62, 84, 69, 67, 65, 75, 73, 73, 84, 65, 94, 71, 80, 78, 80, 74, 78, 70, 91, 92, 60, 73, 62, 71, 93, 68, 73, 81, 69, 75, 71, 77, 55, 66, 70, 66, 80, 73, 78, 75, 72, 69, 80, 80], 'Liberty Light Rail': [63, 61, 57, 52, 64, 71, 81, 69, 62, 68, 79, 66, 76, 65, 79, 82, 70, 87, 61, 67, 58, 57, 96, 89, 70, 53, 56, 68, 80, 75, 80, 82, 77, 55, 81, 55, 64, 67, 90, 54, 87, 70, 62, 89, 82, 80, 89, 70, 75, 73], 'Columbus Dr at Exchange Pl': [69, 63, 57, 65, 49, 82, 59, 72, 75, 68, 73, 71, 66, 63, 81, 64, 66, 72, 71, 69, 73, 73, 74, 74, 72, 66, 76, 74, 69, 64, 68, 64, 83, 66, 64, 69, 58, 69, 57, 61, 68, 60, 69, 65, 60, 71, 64, 70, 70, 71], 'Harborside': [63, 60, 70, 54, 73, 58, 73, 73, 67, 68, 69, 57, 62, 52, 58, 68, 54, 57, 50, 50, 80, 46, 70, 60, 57, 47, 78, 80, 62, 65, 58, 58, 61, 65, 80, 66, 71, 55, 66, 71, 56, 73, 71, 69, 66, 63, 62, 66, 70, 64], '11 St & Washington St': [54, 71, 63, 68, 63, 68, 61, 69, 48, 42, 63, 56, 59, 52, 63, 55, 48, 45, 66, 69, 60, 65, 61, 68, 64, 68, 62, 64, 52, 70, 68, 54, 64, 58, 55, 61, 53, 69, 56, 41, 60, 66, 72, 55, 61, 72, 72, 59, 57, 64], 'Washington St': [75, 56, 52, 56, 64, 62, 79, 62, 73, 63, 67, 64, 58, 66, 57, 68, 75, 65, 57, 55, 58, 53, 61, 54, 59, 64, 54, 51, 48, 56, 62, 63, 72, 54, 44, 61, 51, 49, 58, 63, 79, 50, 65, 60, 68, 64, 81, 68, 59, 54], 'Sip Ave': [62, 52, 53, 56, 68, 63, 60, 46, 63, 58, 65, 57, 66, 61, 59, 61, 58, 67, 72, 58, 49, 71, 53, 59, 55, 62, 49, 48, 63, 56, 64, 60, 61, 51, 55, 54, 51, 52, 58, 55, 57, 66, 68, 74, 61, 57, 65, 58, 73, 52], 'Hudson St & 4 St': [54, 66, 77, 64, 69, 60, 56, 54, 80, 49, 67, 50, 48, 64, 48, 63, 53, 56, 64, 67, 55, 65, 53, 73, 66, 63, 50, 56, 51, 67, 50, 49, 65, 51, 62, 66, 52, 58, 67, 49, 59, 71, 68, 61, 64, 59, 57, 64, 66, 74], '8 St & Washington St': [49, 51, 58, 56, 59, 50, 64, 64, 49, 47, 53, 61, 53, 51, 68, 58, 55, 46, 61, 59, 50, 58, 62, 53, 47, 61, 69, 46, 55, 62, 76, 56, 52, 34, 62, 63, 69, 70, 53, 49, 59, 59, 55, 54, 49, 70, 52, 43, 50, 47], 'Madison St & 1 St': [46, 55, 60, 61, 49, 63, 56, 49, 45, 59, 70, 50, 48, 55, 59, 63, 55, 56, 61, 57, 60, 59, 52, 70, 38, 59, 47, 66, 58, 54, 51, 48, 50, 71, 59, 42, 57, 60, 47, 60, 60, 65, 63, 57, 46, 55, 63, 72, 52, 50], 'City Hall': [39, 48, 65, 64, 53, 55, 52, 55, 59, 50, 62, 64, 59, 50, 65, 48, 50, 62, 55, 41, 54, 45, 52, 59, 49, 44, 47, 56, 46, 57, 52, 60, 54, 41, 56, 64, 54, 61, 51, 52, 54, 40, 49, 58, 44, 53, 32, 54, 50, 52], 'Warren St': [47, 56, 52, 65, 42, 42, 53, 61, 47, 45, 51, 59, 54, 58, 47, 45, 40, 49, 43, 49, 47, 44, 31, 64, 70, 57, 43, 50, 47, 56, 53, 57, 53, 49, 48, 50, 46, 41, 39, 40, 45, 49, 36, 59, 62, 47, 37, 55, 54, 48], 'Newark Ave': [45, 50, 61, 47, 39, 53, 48, 44, 55, 33, 46, 46, 45, 46, 47, 47, 45, 40, 41, 40, 52, 69, 54, 50, 41, 57, 66, 41, 49, 48, 47, 53, 57, 46, 36, 45, 42, 48, 49, 47, 37, 51, 49, 59, 49, 55, 57, 52, 48, 42], 'Columbus Park - Clinton St & 9 St': [63, 63, 35, 57, 53, 44, 45, 44, 50, 53, 43, 38, 48, 43, 51, 43, 50, 46, 39, 40, 49, 50, 44, 56, 34, 41, 44, 43, 45, 43, 44, 36, 46, 38, 40, 49, 45, 45, 47, 47, 40, 44, 59, 42, 45, 35, 55, 51, 43, 47], 'Grand St & 14 St': [41, 39, 46, 47, 43, 53, 59, 53, 43, 61, 42, 48, 52, 57, 42, 43, 45, 37, 47, 46, 52, 53, 49, 50, 47, 40, 55, 52, 46, 47, 53, 49, 50, 44, 43, 54, 57, 45, 55, 47, 41, 33, 33, 54, 52, 48, 51, 49, 38, 49], 'Church Sq Park - 5 St & Park Ave': [56, 51, 62, 56, 51, 44, 58, 41, 40, 41, 42, 51, 40, 50, 46, 52, 40, 55, 42, 34, 38, 43, 48, 39, 46, 39, 41, 47, 29, 41, 43, 38, 41, 38, 40, 37, 33, 54, 49, 38, 43, 51, 44, 42, 50, 57, 39, 37, 46, 45], 'Columbus Drive': [35, 50, 38, 42, 49, 45, 23, 52, 43, 35, 48, 52, 42, 48, 45, 43, 45, 40, 45, 45, 45, 34, 37, 40, 40, 40, 46, 47, 49, 40, 48, 35, 47, 48, 58, 49, 49, 44, 42, 59, 56, 35, 55, 48, 34, 45, 45, 46, 37, 38], 'Van Vorst Park': [47, 41, 46, 41, 46, 42, 43, 42, 51, 37, 38, 50, 44, 36, 56, 49, 44, 47, 52, 39, 44, 45, 50, 44, 33, 39, 46, 48, 43, 38, 43, 43, 43, 54, 45, 41, 47, 51, 44, 43, 37, 43, 37, 47, 53, 40, 51, 49, 44, 39], 'Clinton St & Newark St': [48, 34, 38, 47, 46, 40, 29, 47, 46, 43, 49, 63, 37, 38, 36, 45, 53, 49, 52, 44, 40, 35, 42, 35, 26, 52, 35, 41, 56, 36, 29, 42, 34, 30, 43, 52, 43, 38, 45, 39, 37, 36, 47, 27, 53, 49, 40, 43, 43, 49], 'Grand St': [41, 45, 43, 46, 39, 48, 53, 43, 45, 51, 47, 36, 31, 45, 39, 45, 46, 42, 35, 41, 41, 35, 40, 46, 38, 37, 47, 42, 56, 43, 50, 35, 53, 48, 43, 46, 36, 45, 43, 56, 40, 56, 31, 39, 37, 47, 28, 43, 52, 41], 'Paulus Hook': [50, 42, 33, 46, 31, 50, 31, 53, 42, 43, 47, 46, 35, 45, 33, 40, 46, 44, 40, 50, 33, 47, 51, 47, 39, 42, 37, 49, 41, 36, 39, 51, 35, 36, 42, 47, 42, 45, 34, 46, 35, 41, 38, 40, 43, 43, 44, 49, 46, 51], 'Manila & 1st': [50, 51, 37, 49, 38, 43, 47, 41, 45, 37, 50, 42, 38, 42, 37, 42, 40, 42, 43, 44, 56, 51, 41, 35, 55, 46, 39, 38, 42, 51, 42, 49, 37, 36, 47, 42, 45, 34, 48, 36, 45, 44, 46, 42, 46, 41, 35, 49, 50, 45], '9 St HBLR - Jackson St & 8 St': [36, 31, 35, 39, 35, 46, 44, 39, 42, 34, 35, 38, 31, 42, 37, 52, 48, 40, 42, 41, 37, 35, 43, 39, 44, 46, 34, 37, 41, 50, 39, 40, 29, 30, 45, 43, 45, 35, 34, 34, 51, 45, 36, 37, 39, 42, 46, 47, 39, 37], 'Bloomfield St & 15 St': [48, 35, 37, 43, 31, 40, 50, 42, 39, 39, 41, 31, 39, 45, 39, 48, 40, 32, 28, 43, 48, 36, 39, 37, 50, 32, 36, 42, 42, 48, 44, 39, 52, 39, 43, 41, 33, 42, 49, 39, 38, 53, 37, 41, 37, 31, 49, 39, 27, 35], '4 St & Grand St': [34, 41, 37, 41, 45, 46, 35, 47, 39, 40, 45, 44, 36, 38, 35, 34, 53, 35, 43, 48, 44, 41, 39, 29, 57, 33, 46, 57, 37, 43, 40, 44, 34, 43, 32, 33, 56, 38, 41, 34, 32, 45, 40, 48, 39, 28, 35, 28, 52, 45], '7 St & Monroe St': [33, 41, 43, 37, 38, 41, 42, 39, 45, 42, 43, 44, 50, 40, 50, 47, 45, 34, 33, 49, 38, 39, 37, 47, 35, 34, 30, 48, 40, 28, 39, 41, 44, 41, 39, 33, 39, 47, 33, 40, 42, 48, 36, 40, 49, 40, 47, 45, 45, 41], 'JC Medical Center': [28, 40, 48, 46, 32, 35, 36, 34, 45, 39, 41, 44, 46, 34, 43, 33, 41, 27, 35, 43, 41, 41, 34, 37, 39, 38, 42, 52, 34, 53, 41, 43, 43, 35, 40, 40, 30, 46, 44, 29, 39, 25, 30, 35, 38, 41, 43, 39, 31, 42], 'Clinton St & 7 St': [33, 39, 41, 39, 36, 31, 31, 34, 39, 47, 41, 45, 39, 40, 28, 46, 44, 40, 34, 40, 36, 33, 30, 41, 34, 41, 41, 34, 43, 40, 41, 43, 36, 35, 42, 23, 38, 33, 41, 38, 36, 40, 39, 41, 38, 30, 41, 44, 36, 44], 'Willow Ave & 12 St': [28, 45, 33, 32, 32, 51, 26, 39, 30, 43, 33, 41, 27, 38, 38, 41, 30, 40, 28, 40, 33, 41, 53, 36, 32, 26, 36, 38, 35, 42, 30, 31, 46, 37, 27, 30, 32, 28, 28, 39, 34, 34, 30, 31, 32, 44, 38, 34, 36, 40], 'Morris Canal': [30, 30, 42, 29, 39, 39, 41, 30, 36, 46, 32, 35, 45, 36, 40, 30, 36, 32, 33, 39, 43, 42, 36, 29, 47, 34, 37, 36, 33, 34, 44, 36, 30, 32, 37, 32, 37, 34, 42, 42, 37, 30, 41, 32, 32, 24, 33, 32, 43, 38], 'McGinley Square': [34, 34, 29, 35, 40, 33, 33, 48, 27, 37, 37, 36, 43, 31, 29, 25, 27, 36, 29, 31, 36, 39, 24, 31, 40, 22, 44, 30, 36, 32, 30, 35, 19, 31, 31, 29, 35, 37, 35, 28, 43, 38, 29, 38, 41, 31, 31, 31, 31, 30], 'Brunswick & 6th': [27, 42, 32, 33, 52, 23, 37, 35, 30, 40, 23, 31, 35, 33, 32, 32, 27, 40, 31, 28, 32, 27, 26, 27, 39, 33, 40, 30, 30, 27, 41, 34, 36, 36, 31, 41, 23, 30, 31, 42, 33, 26, 42, 38, 34, 37, 39, 44, 32, 36], 'Jersey & 3rd': [35, 35, 32, 31, 34, 27, 29, 20, 27, 28, 27, 40, 37, 28, 32, 28, 23, 35, 33, 43, 33, 35, 27, 25, 34, 26, 29, 40, 34, 38, 24, 28, 32, 31, 38, 40, 33, 33, 33, 33, 40, 22, 23, 29, 39, 30, 44, 38, 30, 38], 'Brunswick St': [34, 30, 31, 33, 39, 41, 27, 47, 36, 37, 31, 37, 29, 35, 28, 29, 50, 22, 32, 39, 33, 38, 39, 30, 44, 29, 28, 34, 39, 37, 28, 35, 31, 36, 51, 37, 41, 28, 27, 40, 38, 44, 29, 35, 37, 33, 36, 29, 39, 35], 'Baldwin at Montgomery': [30, 25, 32, 25, 43, 29, 33, 30, 36, 42, 29, 29, 35, 23, 26, 27, 26, 26, 36, 33, 22, 36, 34, 32, 26, 46, 32, 27, 26, 36, 35, 37, 32, 32, 33, 28, 32, 28, 39, 40, 35, 25, 23, 31, 25, 29, 34, 30, 25, 39], 'Adams St & 2 St': [23, 27, 26, 37, 41, 32, 34, 37, 24, 35, 33, 35, 33, 25, 22, 19, 37, 35, 29, 18, 34, 30, 25, 33, 28, 30, 54, 34, 33, 26, 28, 38, 24, 45, 22, 34, 30, 30, 39, 26, 27, 43, 37, 16, 35, 37, 25, 32, 34, 29], 'Southwest Park - Jackson St & Observer Hwy': [30, 28, 38, 31, 34, 23, 32, 29, 35, 31, 23, 29, 30, 43, 45, 27, 29, 30, 35, 26, 35, 27, 31, 36, 32, 43, 37, 36, 45, 36, 27, 31, 45, 33, 39, 24, 43, 30, 32, 40, 33, 27, 33, 39, 32, 37, 38, 47, 33, 33], 'Marshall St & 2 St': [37, 35, 22, 36, 32, 22, 31, 36, 30, 34, 31, 27, 29, 41, 38, 41, 31, 25, 32, 36, 34, 36, 34, 23, 35, 33, 27, 22, 33, 31, 31, 20, 36, 33, 35, 30, 38, 23, 32, 29, 37, 44, 38, 25, 30, 27, 27, 30, 33, 34], 'Journal Square': [29, 17, 28, 22, 32, 42, 27, 42, 33, 23, 27, 31, 37, 36, 41, 27, 28, 34, 26, 36, 37, 29, 33, 42, 29, 31, 16, 38, 34, 28, 27, 27, 25, 34, 27, 32, 25, 33, 31, 30, 22, 35, 29, 32, 35, 29, 31, 29, 30, 37], 'Madison St & 10 St': [21, 33, 23, 26, 35, 30, 32, 27, 37, 34, 22, 37, 20, 29, 30, 33, 22, 32, 27, 28, 35, 28, 29, 33, 34, 38, 24, 25, 37, 34, 27, 41, 34, 39, 27, 34, 31, 38, 23, 30, 26, 22, 29, 41, 30, 34, 39, 20, 25, 25], '6 St & Grand St': [27, 37, 25, 30, 34, 25, 24, 29, 26, 27, 29, 19, 35, 22, 30, 26, 33, 32, 29, 21, 27, 26, 21, 22, 21, 19, 35, 29, 26, 35, 32, 24, 24, 28, 24, 25, 32, 28, 34, 29, 25, 21, 24, 30, 28, 26, 32, 26, 27, 29], 'Dixon Mills': [25, 40, 25, 30, 29, 23, 14, 16, 22, 28, 37, 26, 28, 33, 22, 39, 39, 27, 28, 24, 22, 29, 22, 27, 23, 30, 29, 24, 19, 28, 28, 26, 21, 28, 22, 23, 29, 18, 37, 22, 33, 36, 24, 25, 27, 33, 35, 27, 30, 30], 'Lafayette Park': [32, 24, 29, 24, 32, 19, 29, 28, 23, 25, 23, 22, 27, 26, 35, 18, 25, 21, 25, 25, 23, 32, 24, 31, 22, 25, 21, 25, 33, 16, 18, 26, 27, 21, 33, 34, 24, 18, 31, 24, 24, 24, 37, 25, 23, 33, 29, 16, 19, 31], 'Riverview Park': [34, 33, 29, 24, 22, 27, 29, 29, 31, 27, 25, 21, 27, 23, 24, 31, 29, 27, 27, 28, 23, 34, 25, 16, 33, 24, 26, 29, 20, 21, 16, 23, 17, 27, 25, 25, 27, 36, 23, 17, 16, 23, 29, 25, 25, 25, 14, 25, 28, 32], 'Stevens - River Ter & 6 St': [19, 17, 34, 31, 24, 26, 26, 23, 21, 25, 30, 34, 15, 28, 22, 32, 23, 25, 25, 27, 30, 29, 21, 24, 30, 21, 26, 36, 36, 36, 27, 18, 27, 23, 30, 22, 32, 26, 37, 25, 35, 25, 22, 27, 32, 30, 23, 20, 23, 32], 'Mama Johnson Field - 4 St & Jackson St': [16, 28, 17, 18, 24, 27, 17, 17, 14, 32, 22, 31, 24, 21, 35, 20, 29, 27, 25, 27, 34, 29, 32, 30, 23, 29, 17, 23, 26, 15, 33, 26, 25, 21, 21, 25, 24, 30, 34, 23, 25, 30, 27, 21, 24, 26, 15, 24, 25, 18], 'Pershing Field': [39, 31, 24, 28, 33, 20, 35, 18, 32, 25, 20, 31, 22, 25, 29, 22, 25, 15, 22, 32, 41, 23, 20, 27, 24, 29, 24, 34, 22, 28, 27, 39, 36, 32, 20, 25, 22, 23, 27, 36, 21, 25, 24, 25, 23, 27, 34, 22, 22, 27], 'Hilltop': [27, 23, 21, 27, 29, 26, 18, 17, 24, 37, 26, 29, 20, 23, 22, 29, 28, 24, 24, 21, 24, 29, 34, 33, 23, 26, 27, 23, 23, 33, 19, 30, 20, 32, 29, 26, 29, 24, 30, 34, 27, 27, 20, 20, 25, 18, 20, 25, 33, 18], 'Jersey & 6th St': [15, 33, 20, 24, 20, 26, 26, 38, 32, 33, 25, 28, 22, 31, 23, 23, 21, 29, 25, 20, 30, 17, 24, 22, 24, 35, 19, 23, 20, 25, 15, 18, 25, 25, 21, 25, 19, 27, 32, 26, 27, 19, 22, 26, 13, 23, 16, 24, 31, 17], 'Essex Light Rail': [27, 27, 28, 31, 25, 28, 22, 18, 22, 23, 24, 18, 29, 26, 18, 21, 24, 23, 23, 24, 23, 21, 35, 22, 26, 21, 16, 18, 13, 33, 31, 14, 22, 22, 31, 21, 31, 20, 25, 27, 22, 29, 27, 23, 17, 26, 22, 27, 23, 34], 'Monmouth and 6th': [33, 35, 24, 18, 17, 21, 24, 23, 16, 37, 26, 17, 29, 30, 22, 25, 24, 29, 19, 25, 23, 27, 30, 25, 27, 29, 28, 16, 25, 17, 21, 20, 9, 20, 23, 23, 33, 25, 36, 29, 25, 20, 23, 22, 21, 15, 22, 25, 18, 22], 'Oakland Ave': [21, 26, 26, 16, 16, 15, 30, 18, 21, 14, 27, 26, 30, 27, 11, 29, 31, 18, 33, 28, 23, 14, 25, 33, 21, 27, 25, 25, 32, 14, 22, 23, 22, 37, 19, 22, 20, 19, 27, 19, 19, 20, 24, 18, 21, 20, 22, 25, 27, 18], 'Adams St & 11 St': [25, 23, 11, 23, 27, 25, 25, 23, 27, 18, 21, 30, 17, 43, 18, 18, 24, 25, 21, 26, 19, 27, 23, 21, 23, 22, 23, 21, 21, 22, 21, 30, 19, 22, 20, 20, 18, 21, 16, 22, 19, 19, 15, 24, 23, 28, 24, 31, 18, 23], 'Bergen Ave': [27, 23, 20, 16, 24, 23, 12, 30, 11, 28, 25, 22, 28, 24, 23, 20, 16, 27, 35, 17, 26, 22, 25, 22, 27, 28, 19, 19, 17, 26, 25, 20, 23, 21, 16, 17, 24, 25, 19, 19, 24, 20, 19, 23, 24, 21, 22, 13, 29, 25], 'Fairmount Ave': [18, 20, 13, 18, 18, 18, 18, 15, 18, 18, 18, 24, 16, 13, 23, 19, 21, 16, 31, 17, 13, 14, 22, 17, 15, 16, 20, 20, 19, 23, 17, 24, 25, 13, 24, 19, 28, 18, 22, 20, 23, 17, 21, 24, 18, 19, 17, 16, 25, 15], 'Montgomery St': [16, 20, 24, 19, 25, 24, 21, 21, 17, 27, 24, 17, 18, 24, 19, 20, 23, 20, 17, 21, 18, 19, 21, 24, 19, 19, 16, 27, 19, 19, 21, 21, 24, 22, 16, 20, 30, 24, 17, 25, 15, 23, 15, 26, 21, 18, 16, 21, 18, 20], 'Christ Hospital': [13, 16, 18, 20, 11, 24, 19, 18, 14, 22, 20, 25, 20, 24, 29, 21, 19, 18, 25, 17, 27, 12, 15, 14, 15, 20, 20, 15, 24, 26, 14, 19, 17, 26, 15, 16, 19, 19, 21, 13, 29, 24, 26, 17, 15, 15, 18, 16, 16, 22], 'Astor Place': [21, 16, 16, 21, 13, 19, 21, 15, 20, 14, 16, 14, 22, 16, 17, 18, 20, 18, 22, 13, 19, 22, 15, 25, 25, 23, 17, 15, 19, 14, 14, 17, 19, 12, 13, 18, 10, 18, 20, 22, 16, 12, 12, 15, 21, 18, 14, 16, 17, 20], 'Heights Elevator': [18, 21, 12, 20, 15, 18, 20, 19, 12, 19, 28, 15, 23, 16, 23, 15, 19, 15, 17, 22, 21, 22, 15, 16, 21, 18, 22, 17, 22, 22, 21, 18, 18, 20, 20, 13, 15, 17, 19, 13, 22, 11, 20, 23, 20, 16, 15, 13, 14, 23], 'Lincoln Park': [14, 16, 20, 23, 14, 21, 29, 16, 20, 14, 14, 18, 15, 22, 23, 19, 11, 21, 11, 20, 18, 17, 26, 17, 16, 14, 17, 16, 21, 22, 26, 18, 20, 13, 15, 15, 20, 13, 16, 11, 20, 18, 26, 15, 17, 29, 23, 13, 26, 14], 'Leonard Gordon Park': [24, 18, 19, 21, 24, 12, 13, 16, 15, 13, 22, 19, 18, 12, 18, 10, 21, 22, 15, 14, 18, 15, 28, 21, 19, 17, 16, 18, 20, 16, 19, 16, 22, 13, 19, 14, 20, 21, 18, 15, 12, 19, 17, 23, 20, 18, 19, 11, 16, 23], 'Communipaw & Berry Lane': [19, 18, 15, 19, 11, 12, 20, 19, 11, 14, 13, 14, 14, 9, 18, 9, 12, 15, 9, 14, 11, 17, 9, 19, 21, 13, 15, 11, 15, 4, 12, 14, 11, 17, 17, 16, 12, 18, 14, 12, 14, 22, 8, 16, 14, 13, 26, 10, 14, 14], '5 Corners Library': [9, 14, 12, 8, 15, 20, 14, 13, 11, 11, 11, 12, 20, 8, 11, 10, 12, 18, 14, 11, 10, 11, 12, 17, 12, 9, 13, 11, 16, 13, 15, 15, 13, 10, 13, 11, 6, 10, 14, 16, 16, 15, 16, 15, 12, 10, 13, 9, 8, 9], 'Glenwood Ave': [14, 8, 14, 9, 4, 14, 15, 9, 10, 10, 8, 12, 16, 7, 13, 9, 13, 8, 13, 15, 17, 11, 13, 10, 8, 4, 15, 9, 10, 8, 14, 17, 12, 10, 14, 20, 9, 16, 10, 13, 11, 11, 13, 9, 14, 15, 13, 7, 14, 11], 'Union St': [11, 15, 7, 10, 11, 4, 7, 10, 16, 7, 12, 14, 7, 7, 4, 8, 8, 18, 12, 7, 6, 8, 12, 8, 9, 10, 10, 15, 3, 12, 9, 6, 6, 11, 18, 9, 5, 13, 11, 4, 11, 17, 3, 12, 9, 7, 7, 11, 8, 11], 'Dey St': [14, 5, 8, 9, 9, 8, 7, 11, 13, 12, 9, 9, 13, 5, 10, 9, 8, 8, 10, 6, 9, 10, 5, 7, 13, 8, 6, 7, 8, 6, 11, 7, 6, 10, 8, 18, 9, 15, 4, 10, 9, 10, 12, 6, 12, 6, 14, 15, 15, 18], 'Jackson Square': [9, 10, 6, 8, 3, 9, 6, 8, 6, 6, 5, 4, 5, 2, 9, 7, 7, 8, 3, 9, 5, 5, 7, 7, 4, 7, 7, 6, 10, 8, 3, 9, 6, 6, 6, 6, 2, 4, 6, 11, 6, 13, 4, 8, 7, 8, 8, 8, 7, 1], 'Bergen Ave & Stegman St': [5, 5, 8, 4, 8, 3, 3, 3, 1, 6, 8, 4, 6, 3, 7, 5, 8, 5, 6, 7, 7, 6, 5, 4, 3, 7, 5, 5, 6, 4, 6, 7, 5, 4, 2, 6, 4, 4, 4, 7, 5, 4, 5, 2, 6, 5, 4, 0, 5, 6], 'Grant Ave & MLK Dr': [2, 3, 1, 1, 1, 2, 4, 1, 1, 2, 1, 5, 2, 3, 3, 3, 1, 1, 3, 1, 2, 3, 0, 2, 2, 0, 3, 1, 1, 4, 3, 3, 3, 5, 3, 6, 2, 4, 1, 3, 3, 3, 0, 4, 3, 1, 4, 2, 2, 2], 'JCBS Depot': [0, 0, 0, 0, 0, 0, 0, 0, 0, 0, 0, 0, 0, 0, 0, 0, 0, 0, 0, 0, 0, 0, 0, 0, 0, 0, 0, 0, 0, 0, 0, 0, 0, 0, 1, 0, 0, 0, 0, 0, 0, 0, 0, 1, 1, 0, 0, 0, 0, 0]}\n",
            "Total successful rides: 3476\n",
            "Waiting : 34.426076948223695\n"
          ]
        }
      ]
    },
    {
      "cell_type": "code",
      "source": [
        "import math\n",
        "stationMaxes={}\n",
        "for key,value in adict.items():\n",
        "\n",
        "  stationMaxes[key]=max(value)"
      ],
      "metadata": {
        "id": "kYHowcsSrGEq"
      },
      "execution_count": null,
      "outputs": []
    },
    {
      "cell_type": "code",
      "source": [
        "stationMaxes"
      ],
      "metadata": {
        "colab": {
          "base_uri": "https://localhost:8080/"
        },
        "id": "kZEgHbPFuriJ",
        "outputId": "274383a3-1dac-49d6-caa9-2714fb48891e"
      },
      "execution_count": null,
      "outputs": [
        {
          "output_type": "execute_result",
          "data": {
            "text/plain": [
              "{'South Waterfront Walkway - Sinatra Dr & 1 St': 183,\n",
              " 'Grove St PATH': 186,\n",
              " 'Hoboken Terminal - Hudson St & Hudson Pl': 138,\n",
              " 'Hoboken Terminal - River St & Hudson Pl': 133,\n",
              " 'Newport Pkwy': 113,\n",
              " 'City Hall - Washington St & 1 St': 121,\n",
              " 'Newport PATH': 107,\n",
              " '12 St & Sinatra Dr N': 105,\n",
              " 'Hoboken Ave at Monmouth St': 98,\n",
              " 'Marin Light Rail': 98,\n",
              " 'Hamilton Park': 98,\n",
              " '14 St Ferry - 14 St & Shipyard Ln': 94,\n",
              " 'Liberty Light Rail': 96,\n",
              " 'Columbus Dr at Exchange Pl': 83,\n",
              " 'Harborside': 80,\n",
              " '11 St & Washington St': 72,\n",
              " 'Washington St': 81,\n",
              " 'Sip Ave': 74,\n",
              " 'Hudson St & 4 St': 80,\n",
              " '8 St & Washington St': 76,\n",
              " 'Madison St & 1 St': 72,\n",
              " 'City Hall': 65,\n",
              " 'Warren St': 70,\n",
              " 'Newark Ave': 69,\n",
              " 'Columbus Park - Clinton St & 9 St': 63,\n",
              " 'Grand St & 14 St': 61,\n",
              " 'Church Sq Park - 5 St & Park Ave': 62,\n",
              " 'Columbus Drive': 59,\n",
              " 'Van Vorst Park': 56,\n",
              " 'Clinton St & Newark St': 63,\n",
              " 'Grand St': 56,\n",
              " 'Paulus Hook': 53,\n",
              " 'Manila & 1st': 56,\n",
              " '9 St HBLR - Jackson St & 8 St': 52,\n",
              " 'Bloomfield St & 15 St': 53,\n",
              " '4 St & Grand St': 57,\n",
              " '7 St & Monroe St': 50,\n",
              " 'JC Medical Center': 53,\n",
              " 'Clinton St & 7 St': 47,\n",
              " 'Willow Ave & 12 St': 53,\n",
              " 'Morris Canal': 47,\n",
              " 'McGinley Square': 48,\n",
              " 'Brunswick & 6th': 52,\n",
              " 'Jersey & 3rd': 44,\n",
              " 'Brunswick St': 51,\n",
              " 'Baldwin at Montgomery': 46,\n",
              " 'Adams St & 2 St': 54,\n",
              " 'Southwest Park - Jackson St & Observer Hwy': 47,\n",
              " 'Marshall St & 2 St': 44,\n",
              " 'Journal Square': 42,\n",
              " 'Madison St & 10 St': 41,\n",
              " '6 St & Grand St': 37,\n",
              " 'Dixon Mills': 40,\n",
              " 'Lafayette Park': 37,\n",
              " 'Riverview Park': 36,\n",
              " 'Stevens - River Ter & 6 St': 37,\n",
              " 'Mama Johnson Field - 4 St & Jackson St': 35,\n",
              " 'Pershing Field': 41,\n",
              " 'Hilltop': 37,\n",
              " 'Jersey & 6th St': 38,\n",
              " 'Essex Light Rail': 35,\n",
              " 'Monmouth and 6th': 37,\n",
              " 'Oakland Ave': 37,\n",
              " 'Adams St & 11 St': 43,\n",
              " 'Bergen Ave': 35,\n",
              " 'Fairmount Ave': 31,\n",
              " 'Montgomery St': 30,\n",
              " 'Christ Hospital': 29,\n",
              " 'Astor Place': 25,\n",
              " 'Heights Elevator': 28,\n",
              " 'Lincoln Park': 29,\n",
              " 'Leonard Gordon Park': 28,\n",
              " 'Communipaw & Berry Lane': 26,\n",
              " '5 Corners Library': 20,\n",
              " 'Glenwood Ave': 20,\n",
              " 'Union St': 18,\n",
              " 'Dey St': 18,\n",
              " 'Jackson Square': 13,\n",
              " 'Bergen Ave & Stegman St': 8,\n",
              " 'Grant Ave & MLK Dr': 6,\n",
              " 'JCBS Depot': 1}"
            ]
          },
          "metadata": {},
          "execution_count": 44
        }
      ]
    }
  ]
}